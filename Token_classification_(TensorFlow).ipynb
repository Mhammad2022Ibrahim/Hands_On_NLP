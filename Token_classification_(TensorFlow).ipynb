{
 "cells": [
  {
   "cell_type": "markdown",
   "metadata": {
    "id": "OkhRShTK-iSL"
   },
   "source": [
    "# Token classification (TensorFlow)"
   ]
  },
  {
   "cell_type": "markdown",
   "metadata": {
    "id": "sZcC504g-iSO"
   },
   "source": [
    "Install the Transformers, Datasets, and Evaluate libraries to run this notebook."
   ]
  },
  {
   "cell_type": "code",
   "execution_count": null,
   "metadata": {
    "colab": {
     "base_uri": "https://localhost:8080/"
    },
    "id": "N7CodaXj-iSP",
    "outputId": "f20256d8-e7b7-48fd-ef42-dbff66e6696f"
   },
   "outputs": [],
   "source": [
    "!pip -q install datasets evaluate transformers[sentencepiece]\n",
    "!apt install git-lfs\n",
    "!pip -q install --upgrade fsspec\n",
    "!pip -q install --upgrade datasets"
   ]
  },
  {
   "cell_type": "markdown",
   "metadata": {
    "id": "pCc1_bd8-iSQ"
   },
   "source": [
    "You will need to setup git, adapt your email and name in the following cell."
   ]
  },
  {
   "cell_type": "code",
   "execution_count": null,
   "metadata": {
    "id": "BevlzuAQ-iSR"
   },
   "outputs": [],
   "source": [
    "!git config --global user.email \"your email\"\n",
    "!git config --global user.name \"your name\""
   ]
  },
  {
   "cell_type": "markdown",
   "metadata": {
    "id": "qOtWomtj-iSR"
   },
   "source": [
    "You will also need to be logged in to the Hugging Face Hub. Execute the following and enter your credentials."
   ]
  },
  {
   "cell_type": "code",
   "execution_count": null,
   "metadata": {
    "colab": {
     "base_uri": "https://localhost:8080/",
     "height": 17,
     "referenced_widgets": [
      "d2137afb1ebc4a74a050274a56976303",
      "aa53146461164db9948e4fbb8de69c8d",
      "c8c4be3308274ba1b38dd806f901bcd1",
      "d931113c84664feea9bccc400fbfe199",
      "50d0804de69d4065b87a1605e38105cd",
      "4b103dd4c027453eb8ca3f1d7529dfb4",
      "4ebdce8b8f2a4cf7a65899d68b94f028",
      "711448019679439a8f3fba25ec4bd037",
      "13ea3022326b42f9b6c6a1c8dd96ef13",
      "90a93134d21f4c7c813a1602fa05aab7",
      "4e7895497f394140ac07f64b327e5e92",
      "be8a737c95d44bd1af8d737578bbe94d",
      "6896a78f33534fe38c8277876c355128",
      "c53bf4042309480193e22d3a21a33422",
      "1019042e8f5542d69511090a7d083aca",
      "b737ef1f79db46768098f9817cb837ff",
      "fd4875b0f6464db5b479303c3aabe971",
      "d28f95f5bed34e59857e7424a3135382",
      "eda62126a7bd441f9f9d9c005c907821",
      "ecb7219b6cb04c40a5b4b9cb8bacc7aa"
     ]
    },
    "id": "Eb7RermQ-iSR",
    "outputId": "0cfde62f-663c-40a7-8f54-fd2920f92f99"
   },
   "outputs": [],
   "source": [
    "from huggingface_hub import notebook_login\n",
    "\n",
    "notebook_login()"
   ]
  },
  {
   "cell_type": "markdown",
   "metadata": {
    "id": "UfZCTmU3LPCw"
   },
   "source": [
    "# Preparing the data"
   ]
  },
  {
   "cell_type": "code",
   "execution_count": null,
   "metadata": {
    "colab": {
     "base_uri": "https://localhost:8080/",
     "height": 278,
     "referenced_widgets": [
      "17ea4304f8574d998eed8510d6c3d0a0",
      "77b24664df2542b1ac1436ee3e0ce290",
      "4df1da289c814db2890cbf34c2efc2e8",
      "fbb1604b8e9c443d9160b34bf8748ecb",
      "48e8db592a014cbf88916f22ec0b5c84",
      "a73d9276ac754842a21a51ee1b3c7df9",
      "3fb8d5d3562d47cd970e6d91ebce6a37",
      "89ca0e8564194e1998223cbad53044c2",
      "aa842c4b71634ae49639f863d069c837",
      "afa4be7679d44437b5dcf16643167a07",
      "ad8865c34f124828a0657214e5d787dc",
      "e9ad6a307a08488690b996b36e33fa2d",
      "bbe9a7c089d144d2b5a73d95a716cd89",
      "515c6210d2bb4f17a2b252eeb1b1b929",
      "0a98bbdd555a4be5a3b2e79eb6699e03",
      "bc9fea6c05a545bf8aadbdc2b61dc067",
      "e357bdf76f25483f8effbead7ef6ca9d",
      "84d3b523ce8b43fdac524a9e4a510798",
      "cc5b826b44894f488bdb173a29ead167",
      "14e93eac43eb420db03854b4506a5301",
      "0ab1123435464b1e9cf29de829425113",
      "75560502b42f45dca62fc4f6ce4ebfa3",
      "8e76902874a0476ba061a85c9518cf48",
      "e9e42341cf0c47ab97526a0cb19ef5fd",
      "3b1ba13badc9482fba722504655ad8d2",
      "74ac2e1c0a004c8a91544323a7e7d5d8",
      "fc2bdcd7639e4beebd77e8e53d254791",
      "17b36b4b85b7483fa68b3ac9ce3e881d",
      "9bc1a0bcb371492c9b4dfaef0cc1e99e",
      "c8398e90273f45d58e7375b6e5e85559",
      "ffea9c9df046496ca62ffa2b9fe31dd5",
      "7853460617ca490f9634665d255eeb26",
      "a284cb0dcb9249408d652dc9a8d485f4",
      "6771b54a46d64f8591d60d9b738b4f21",
      "336d5b8264954c35942122398d5e9e9e",
      "106bf3ba5480439bbd70dee6501e15e7",
      "1099d810968b463b81c947a218293503",
      "1d30068357bb4ff9b2bf2b12ffa0453c",
      "e0c652e2c8c3467193c45807b279267c",
      "84a3baef83eb43c19b34522f11803c4b",
      "3b34f1dab330443092702f8d9f472384",
      "7f58a874e2b049da95727b26bd893d93",
      "7aadf498ef1b4c71b7c0fae1b04a7494",
      "265e3bdcc7ff4a04b00cb06e9b6b10ac",
      "5a7e16d4d328401eb77b0fc3a1830b60",
      "08699b861c574ab9a3e1008207a33986",
      "97f8c56c79f648d0b1593e39279907f8",
      "a4b021becdd94042a0ee113d7c5d7698",
      "f240a94308f0444abe3c41982445bd88",
      "9c9b11b192244fdd92c0f73b3e42ba96",
      "064899763a564061936b1b11003995a0",
      "1764f14d249d455393a867e30fd4aebd",
      "181799684ea04351bdfbceef7e7b6add",
      "cf524747411c4e13ba899c184a804149",
      "32470f3431ed49a49d0e0931e3fe7c03",
      "dc8c377aecbb4b80be212529e99c8fb2",
      "eac0dfcefe7943bc9f932b9617fe99b7",
      "146deb7f8e0f492f8ef59d8eed2e70bc",
      "807ce2a642f74f03b4fe734c97417cf9",
      "6af0296da3124bc2ace5b26c1c0192f2",
      "695f2e1895834430977905a480d16f86",
      "75f5bf812a214b9997394ae0e6f8d013",
      "0fdffe19b56c4960b276bc07a812f283",
      "3472e8a7d29d4d2ca57a27450be9b8f4",
      "22b1f30fea4d4ba1923f1a23e22b89d7",
      "73146f327102475c88cace1db2601af8"
     ]
    },
    "id": "IF3V_73N-iSS",
    "outputId": "b5a0d715-7afc-430e-f6bd-e8166bc855c2"
   },
   "outputs": [],
   "source": [
    "from datasets import load_dataset\n",
    "\n",
    "raw_datasets = load_dataset(\"conll2003\")"
   ]
  },
  {
   "cell_type": "code",
   "execution_count": null,
   "metadata": {
    "colab": {
     "base_uri": "https://localhost:8080/"
    },
    "id": "puEx-x3H-iSS",
    "outputId": "68acbdde-70ce-4d25-8424-3482fbb802bb"
   },
   "outputs": [],
   "source": [
    "raw_datasets"
   ]
  },
  {
   "cell_type": "code",
   "execution_count": null,
   "metadata": {
    "colab": {
     "base_uri": "https://localhost:8080/"
    },
    "id": "U5-Pj2G5-iST",
    "outputId": "be0f2dd9-d3c0-455a-90c2-d539d2daa70f"
   },
   "outputs": [],
   "source": [
    "raw_datasets[\"train\"][0][\"tokens\"]"
   ]
  },
  {
   "cell_type": "markdown",
   "metadata": {
    "id": "LfsZ3qmYNEyI"
   },
   "source": [
    "## **ner_tags**"
   ]
  },
  {
   "cell_type": "code",
   "execution_count": null,
   "metadata": {
    "colab": {
     "base_uri": "https://localhost:8080/"
    },
    "id": "Sc9GhL-_-iST",
    "outputId": "8e9d867d-8c2f-4c1a-d11c-499765858275"
   },
   "outputs": [],
   "source": [
    "raw_datasets[\"train\"][0][\"ner_tags\"]"
   ]
  },
  {
   "cell_type": "code",
   "execution_count": null,
   "metadata": {
    "colab": {
     "base_uri": "https://localhost:8080/"
    },
    "id": "swsSx3jT-iST",
    "outputId": "688b44a4-2418-485a-81c7-6d9a65ba5b10"
   },
   "outputs": [],
   "source": [
    "ner_feature = raw_datasets[\"train\"].features[\"ner_tags\"]\n",
    "ner_feature"
   ]
  },
  {
   "cell_type": "code",
   "execution_count": null,
   "metadata": {
    "colab": {
     "base_uri": "https://localhost:8080/"
    },
    "id": "kmwxaq3k-iSU",
    "outputId": "acb088cc-2b4c-4c32-c40e-23f64fe1a049"
   },
   "outputs": [],
   "source": [
    "label_names_ner = ner_feature.feature.names\n",
    "label_names_ner"
   ]
  },
  {
   "cell_type": "code",
   "execution_count": null,
   "metadata": {
    "colab": {
     "base_uri": "https://localhost:8080/"
    },
    "id": "s86pOLUq-iSU",
    "outputId": "beaf89e0-d201-4a7d-dfe5-2301c360a148"
   },
   "outputs": [],
   "source": [
    "words = raw_datasets[\"train\"][0][\"tokens\"]\n",
    "labels = raw_datasets[\"train\"][0][\"ner_tags\"]\n",
    "line1 = \"\"\n",
    "line2 = \"\"\n",
    "for word, label in zip(words, labels):\n",
    "    full_label = label_names_ner[label]\n",
    "    max_length = max(len(word), len(full_label))\n",
    "    line1 += word + \" \" * (max_length - len(word) + 1)\n",
    "    line2 += full_label + \" \" * (max_length - len(full_label) + 1)\n",
    "\n",
    "print(line1)\n",
    "print(line2)"
   ]
  },
  {
   "cell_type": "code",
   "execution_count": null,
   "metadata": {
    "colab": {
     "base_uri": "https://localhost:8080/"
    },
    "id": "6FtpFJtxM_kA",
    "outputId": "cdfdac32-4696-4cfd-f1ed-27c40ff23347"
   },
   "outputs": [],
   "source": [
    "words = raw_datasets[\"train\"][4][\"tokens\"]\n",
    "labels = raw_datasets[\"train\"][4][\"ner_tags\"]\n",
    "line1 = \"\"\n",
    "line2 = \"\"\n",
    "for word, label in zip(words, labels):\n",
    "    full_label = label_names_ner[label]\n",
    "    max_length = max(len(word), len(full_label))\n",
    "    line1 += word + \" \" * (max_length - len(word) + 1)\n",
    "    line2 += full_label + \" \" * (max_length - len(full_label) + 1)\n",
    "\n",
    "print(line1)\n",
    "print(line2)"
   ]
  },
  {
   "cell_type": "markdown",
   "metadata": {
    "id": "Hv3F_YhMNH3H"
   },
   "source": [
    "## **pos_tags**"
   ]
  },
  {
   "cell_type": "code",
   "execution_count": null,
   "metadata": {
    "colab": {
     "base_uri": "https://localhost:8080/"
    },
    "id": "6lvYk_dCNjTI",
    "outputId": "75a25f4a-4c3d-4507-ac9b-d52bcd000371"
   },
   "outputs": [],
   "source": [
    "raw_datasets[\"train\"][0][\"pos_tags\"]"
   ]
  },
  {
   "cell_type": "code",
   "execution_count": null,
   "metadata": {
    "colab": {
     "base_uri": "https://localhost:8080/"
    },
    "id": "tftTgObVNobw",
    "outputId": "93d0d03c-994a-4f33-8183-d2258e9f9df5"
   },
   "outputs": [],
   "source": [
    "pos_feature = raw_datasets[\"train\"].features[\"pos_tags\"]\n",
    "pos_feature"
   ]
  },
  {
   "cell_type": "code",
   "execution_count": null,
   "metadata": {
    "colab": {
     "base_uri": "https://localhost:8080/"
    },
    "id": "Dk-trzWNOyeo",
    "outputId": "7ebba7d4-3b4a-42f0-bce6-52c66e514a97"
   },
   "outputs": [],
   "source": [
    "label_names = pos_feature.feature.names\n",
    "print(label_names)"
   ]
  },
  {
   "cell_type": "code",
   "execution_count": null,
   "metadata": {
    "colab": {
     "base_uri": "https://localhost:8080/"
    },
    "id": "Qsruhn6lNY0o",
    "outputId": "fa74df13-7b65-4ea1-9c55-6cac97910e4b"
   },
   "outputs": [],
   "source": [
    "words = raw_datasets[\"train\"][0][\"tokens\"]\n",
    "labels = raw_datasets[\"train\"][0][\"pos_tags\"]\n",
    "line1 = \"\"\n",
    "line2 = \"\"\n",
    "for word, label in zip(words, labels):\n",
    "    full_label = label_names[label]\n",
    "    max_length = max(len(word), len(full_label))\n",
    "    line1 += word + \" \" * (max_length - len(word) + 1)\n",
    "    line2 += full_label + \" \" * (max_length - len(full_label) + 1)\n",
    "\n",
    "print(line1)\n",
    "print(line2)"
   ]
  },
  {
   "cell_type": "markdown",
   "metadata": {
    "id": "b9UCpDfKNPYJ"
   },
   "source": [
    "## **chunk_tags**"
   ]
  },
  {
   "cell_type": "code",
   "execution_count": null,
   "metadata": {
    "colab": {
     "base_uri": "https://localhost:8080/"
    },
    "id": "_pxZW2mjO8xH",
    "outputId": "2642f3f4-efc6-41ba-caa0-9c5d198c80a8"
   },
   "outputs": [],
   "source": [
    "raw_datasets[\"train\"][0][\"chunk_tags\"]"
   ]
  },
  {
   "cell_type": "code",
   "execution_count": null,
   "metadata": {
    "colab": {
     "base_uri": "https://localhost:8080/"
    },
    "id": "TTxHo-EdPAwo",
    "outputId": "36c301ce-d03f-4a8a-c330-8bf082178c72"
   },
   "outputs": [],
   "source": [
    "chunk_feature = raw_datasets[\"train\"].features[\"chunk_tags\"]\n",
    "chunk_feature"
   ]
  },
  {
   "cell_type": "code",
   "execution_count": null,
   "metadata": {
    "colab": {
     "base_uri": "https://localhost:8080/"
    },
    "id": "tkC5VEpzPFFn",
    "outputId": "fd813ac0-f74f-4391-bee4-c99369d6b0a7"
   },
   "outputs": [],
   "source": [
    "label_names = chunk_feature.feature.names\n",
    "print(label_names)"
   ]
  },
  {
   "cell_type": "code",
   "execution_count": null,
   "metadata": {
    "colab": {
     "base_uri": "https://localhost:8080/"
    },
    "id": "MllTmm0LPKoA",
    "outputId": "2bd443dc-f63b-4d6d-a0ba-330a9009970c"
   },
   "outputs": [],
   "source": [
    "words = raw_datasets[\"train\"][0][\"tokens\"]\n",
    "labels = raw_datasets[\"train\"][0][\"chunk_tags\"]\n",
    "line1 = \"\"\n",
    "line2 = \"\"\n",
    "for word, label in zip(words, labels):\n",
    "    full_label = label_names[label]\n",
    "    max_length = max(len(word), len(full_label))\n",
    "    line1 += word + \" \" * (max_length - len(word) + 1)\n",
    "    line2 += full_label + \" \" * (max_length - len(full_label) + 1)\n",
    "\n",
    "print(line1)\n",
    "print(line2)"
   ]
  },
  {
   "cell_type": "markdown",
   "metadata": {
    "id": "ROFeGunqPVjg"
   },
   "source": [
    "# Processing the data"
   ]
  },
  {
   "cell_type": "code",
   "execution_count": null,
   "metadata": {
    "colab": {
     "base_uri": "https://localhost:8080/",
     "height": 145,
     "referenced_widgets": [
      "ade13507c84f4852ad6744060c2c1083",
      "43ee341d76dd4c2d844bc425cb0071d0",
      "80edc059797f4d5497739574eae856fa",
      "153dfc079af745389ae5119e20295874",
      "9f9a20f41ab9464cada6b435c874a178",
      "1b14673ce4184f658317a644873a2e67",
      "fbadacc88f414d7db8b923746f5ac9ad",
      "a451308018804169b1fe416983756147",
      "51e2d09d8e0f4622a8a488f1b57e443d",
      "04a4a9b8e0cb44f09987b0d997c2ba4f",
      "8786184ee797427c945bb496b4364711",
      "cb049f484c6e479fb480e83354ae07af",
      "c7864cb372f741eda4e5ad7795bf37d4",
      "ac9b0ea9568d4860b44e689f62418921",
      "a5d965f5f037479fad5666ac7fa8a761",
      "3a3ef301254b4de987344fa3cd854d22",
      "5798b6c58eca41888f80c3d84344022c",
      "c7e1d4df1f47454181514565fa8baaf1",
      "4d771b291f054b2a9e657970a715f8ff",
      "279ae216ff25487c9ba39b0cc0166179",
      "5530a61270584bd8a3b4ed160604ca8a",
      "dd8dc23a2e7e404f8f15537ae91c84d5",
      "a3880b5486354dbb8662d05b3b33003b",
      "bf20f435477e482bac537e3b05aea309",
      "3542e5455fde4f5295c9e8bfb05105ac",
      "9bc431dfffff4fa9b6c3d996efa8989d",
      "11c0ce3ca39f4f20b5ec2743348e69b1",
      "c3c32fbcfef64985bb50c6a03050772a",
      "c63576f3a7f8452db33e373ee1b1f0bc",
      "2f8058aff803444891a1f54aacb261bb",
      "aead2ee891624b3198eb58a7597dc966",
      "5016f041d3684327b8634b0307daf7ba",
      "64ce4093222146df9a6945860fc13a21",
      "a461b30ae56747b181edefaae079631a",
      "1af373ce9c9d4a6a8a0640fb8d9f09cf",
      "22d796e8b2b1456db4d26da414c0131b",
      "fbcbc50916d34f96a39b82e5c875397c",
      "3302a5947f9843739a3eaba030d52b59",
      "86ae1c5f9c3144bd935acc4ae5318d7f",
      "295fca88c949476aaa0e12880aac7e5a",
      "84533c8eac1b4ea3a2988f53a61dcaea",
      "6276b66eb4bc4a7384105c05b9e38a76",
      "f35d54274e0e408f88521c6e4c1b9438",
      "84234d00bc704293b444675d3a6d6e81"
     ]
    },
    "id": "iyF2IWVw-iSU",
    "outputId": "0c1705a2-5fc3-4e0b-cce1-79e9c5f2dd1f"
   },
   "outputs": [],
   "source": [
    "from transformers import AutoTokenizer\n",
    "\n",
    "model_checkpoint = \"bert-base-cased\"\n",
    "tokenizer = AutoTokenizer.from_pretrained(model_checkpoint)"
   ]
  },
  {
   "cell_type": "code",
   "execution_count": null,
   "metadata": {
    "colab": {
     "base_uri": "https://localhost:8080/"
    },
    "id": "mLw1VhCJ-iSU",
    "outputId": "471e173d-deba-4e00-99ea-5291267c4b1c"
   },
   "outputs": [],
   "source": [
    "tokenizer.is_fast"
   ]
  },
  {
   "cell_type": "code",
   "execution_count": null,
   "metadata": {
    "colab": {
     "base_uri": "https://localhost:8080/"
    },
    "id": "Zfv39AOA-iSV",
    "outputId": "5ce7806d-f085-4588-8499-01cc90b37760"
   },
   "outputs": [],
   "source": [
    "inputs = tokenizer(raw_datasets[\"train\"][0][\"tokens\"], is_split_into_words=True)\n",
    "print(inputs.tokens())"
   ]
  },
  {
   "cell_type": "code",
   "execution_count": null,
   "metadata": {
    "colab": {
     "base_uri": "https://localhost:8080/"
    },
    "id": "vvccKRFV-iSV",
    "outputId": "88fe2a72-3abd-435c-ad86-ed393f2489e8"
   },
   "outputs": [],
   "source": [
    "inputs.word_ids()"
   ]
  },
  {
   "cell_type": "code",
   "execution_count": null,
   "metadata": {
    "id": "1voXXfRE-iSV"
   },
   "outputs": [],
   "source": [
    "def align_labels_with_tokens(labels, word_ids):\n",
    "    new_labels = []\n",
    "    current_word = None\n",
    "    for word_id in word_ids:\n",
    "        if word_id != current_word:\n",
    "            # Start of a new word!\n",
    "            current_word = word_id\n",
    "            label = -100 if word_id is None else labels[word_id]\n",
    "            new_labels.append(label)\n",
    "        elif word_id is None:\n",
    "            # Special token\n",
    "            new_labels.append(-100)\n",
    "        else:\n",
    "            # Same word as previous token\n",
    "            label = labels[word_id]\n",
    "            # If the label is B-XXX we change it to I-XXX\n",
    "            if label % 2 == 1:\n",
    "                label += 1\n",
    "            new_labels.append(label)\n",
    "\n",
    "    return new_labels"
   ]
  },
  {
   "cell_type": "code",
   "execution_count": null,
   "metadata": {
    "colab": {
     "base_uri": "https://localhost:8080/"
    },
    "id": "SdpV-Fua-iSV",
    "outputId": "a38a6fc0-f901-40f3-adc8-31efb54498bb"
   },
   "outputs": [],
   "source": [
    "labels = raw_datasets[\"train\"][0][\"ner_tags\"]\n",
    "word_ids = inputs.word_ids()\n",
    "print(labels)\n",
    "print(align_labels_with_tokens(labels, word_ids))"
   ]
  },
  {
   "cell_type": "markdown",
   "metadata": {
    "id": "Ojaxj8y9UpVI"
   },
   "source": [
    "Some researchers prefer to attribute only one label per word, and assign -100 to the other subtokens in a given word. This is to avoid long words that split into lots of subtokens contributing heavily to the loss. Change the previous function to align labels with input IDs by following this rule."
   ]
  },
  {
   "cell_type": "code",
   "execution_count": null,
   "metadata": {
    "colab": {
     "base_uri": "https://localhost:8080/"
    },
    "id": "7pge2BkiUUj4",
    "outputId": "f345a36a-f498-4d63-bbdc-ca19414246f4"
   },
   "outputs": [],
   "source": [
    "def align_labels_with_tokens_single_label_per_word(labels, word_ids):\n",
    "    new_labels = []\n",
    "    current_word = None\n",
    "    for word_id in word_ids:\n",
    "        if word_id is None:\n",
    "            # Special token (e.g., [CLS], [SEP])\n",
    "            new_labels.append(-100)\n",
    "        elif word_id != current_word:\n",
    "            # First token of a new word: keep the label\n",
    "            current_word = word_id\n",
    "            new_labels.append(labels[word_id])\n",
    "        else:\n",
    "            # Additional token in the same word: ignore with -100\n",
    "            new_labels.append(-100)\n",
    "    return new_labels\n",
    "\n",
    "labels = raw_datasets[\"train\"][0][\"ner_tags\"]\n",
    "word_ids = inputs.word_ids()\n",
    "\n",
    "aligned_labels = align_labels_with_tokens_single_label_per_word(labels, word_ids)\n",
    "print(labels)\n",
    "print(aligned_labels)\n"
   ]
  },
  {
   "cell_type": "code",
   "execution_count": null,
   "metadata": {
    "colab": {
     "base_uri": "https://localhost:8080/"
    },
    "id": "rNpDJQKcUdjQ",
    "outputId": "3069a36a-ee7e-4f84-9192-8f540353c9a0"
   },
   "outputs": [],
   "source": [
    "print(raw_datasets[\"train\"][0][\"tokens\"])"
   ]
  },
  {
   "cell_type": "code",
   "execution_count": null,
   "metadata": {
    "id": "5soBs0K--iSV"
   },
   "outputs": [],
   "source": [
    "def tokenize_and_align_labels(examples):\n",
    "    tokenized_inputs = tokenizer(\n",
    "        examples[\"tokens\"], truncation=True, is_split_into_words=True\n",
    "    )\n",
    "    all_labels = examples[\"ner_tags\"]\n",
    "    new_labels = []\n",
    "    for i, labels in enumerate(all_labels):\n",
    "        word_ids = tokenized_inputs.word_ids(i)\n",
    "        new_labels.append(align_labels_with_tokens(labels, word_ids))\n",
    "\n",
    "    tokenized_inputs[\"labels\"] = new_labels\n",
    "    return tokenized_inputs"
   ]
  },
  {
   "cell_type": "code",
   "execution_count": null,
   "metadata": {
    "colab": {
     "base_uri": "https://localhost:8080/",
     "height": 113,
     "referenced_widgets": [
      "8aea6aa4944b4279a99fcbf4c6f264fe",
      "7dacacd51f1d4a91938f53f641cb3a99",
      "d64fb9ad002745c59a73e26880c56b1c",
      "159e340397b6455dbec7a0b430582c68",
      "28f542e94e5a423d9be78d6849738a21",
      "05da4ad4011943b0bd54645d3ade008d",
      "0738c9f8d7214ceabf3b02660cf12213",
      "fc76dc86f1cc44e2ab7c7aed9fcfb1d6",
      "90fcc34ce8cd499c8e7dcb47f70c022a",
      "5b4ebf0cd97a494b8bf18ab4fdf37fbc",
      "efceb4245c3349239be1fd9e45b0f2f7",
      "7deecbd428d54d39bedbf6d7fc0124cf",
      "fd7ab6a51d48482e95609386cbd38ae7",
      "be655d20235a49c497227229fce7217f",
      "61c673fb9fb047c2ab34e4c0eed9ac05",
      "95b16184c1e841b9aade78edeb164066",
      "8c01da37a6f340d88dcf361a3041ead2",
      "c04e4bfe02394b9997c3520d05e6190c",
      "bc4d5a71592d4589bf1cc126dcc22952",
      "f60e8b7a153d480893418206a4c1708f",
      "32f8ffad902a40ceb5fa3d9fd9ca74e5",
      "b10c53a157474e14af063d42e29feb8e",
      "dd73e59728f1425c88bb26f631efb7ee",
      "65bf55b7615d44b09e1dfb2661449a75",
      "27bdd1c2600949168366a65e73a405ac",
      "bd7d4411efb34bcba39446ac95a51ded",
      "47e6fe4f35cd4d9db7b73679d5ab7e7d",
      "a4ff208c9aa04ef383ab2c06e6cc2ad9",
      "ea67c4652f38474d826e3ff812c19924",
      "7305e27498e64b62bcf95a8c2e8982aa",
      "861fc0a38aa54f8784144f072452fe7b",
      "714de8c4d1b94f1b851868399ab866fb",
      "c0cec787253a4a6d8ebdad3071b95619"
     ]
    },
    "id": "BD2-f_J0-iSV",
    "outputId": "776ec47b-ccb1-4649-d668-84ee120a38e3"
   },
   "outputs": [],
   "source": [
    "tokenized_datasets = raw_datasets.map(\n",
    "    tokenize_and_align_labels,\n",
    "    batched=True,\n",
    "    remove_columns=raw_datasets[\"train\"].column_names,\n",
    ")"
   ]
  },
  {
   "cell_type": "code",
   "execution_count": null,
   "metadata": {
    "colab": {
     "base_uri": "https://localhost:8080/"
    },
    "id": "PHxZKFn8dKwX",
    "outputId": "7668222f-6557-45c2-8cb0-5ce9c09d261b"
   },
   "outputs": [],
   "source": [
    "tokenized_datasets"
   ]
  },
  {
   "cell_type": "markdown",
   "metadata": {
    "id": "oKodo0rtdTqX"
   },
   "source": [
    "# Fine-tuning the model with Keras"
   ]
  },
  {
   "cell_type": "markdown",
   "metadata": {
    "id": "M2VIXzudeKUo"
   },
   "source": [
    "## Data collation"
   ]
  },
  {
   "cell_type": "code",
   "execution_count": null,
   "metadata": {
    "id": "F2OYDewZ-iSV"
   },
   "outputs": [],
   "source": [
    "from transformers import DataCollatorForTokenClassification\n",
    "\n",
    "data_collator = DataCollatorForTokenClassification(\n",
    "    tokenizer=tokenizer, return_tensors=\"tf\"\n",
    ")"
   ]
  },
  {
   "cell_type": "code",
   "execution_count": null,
   "metadata": {
    "colab": {
     "base_uri": "https://localhost:8080/"
    },
    "id": "mlFHmWxz-iSV",
    "outputId": "c316b0d4-0466-460b-e501-a33478a4ab20"
   },
   "outputs": [],
   "source": [
    "batch = data_collator([tokenized_datasets[\"train\"][i] for i in range(3)])\n",
    "batch[\"labels\"]"
   ]
  },
  {
   "cell_type": "code",
   "execution_count": null,
   "metadata": {
    "colab": {
     "base_uri": "https://localhost:8080/"
    },
    "id": "LQN4v81--iSV",
    "outputId": "ce507fc4-8523-4460-d6a1-b2c0d793bb6e"
   },
   "outputs": [],
   "source": [
    "for i in range(3):\n",
    "    print(tokenized_datasets[\"train\"][i][\"labels\"])"
   ]
  },
  {
   "cell_type": "code",
   "execution_count": null,
   "metadata": {
    "id": "S4_669aY-iSW"
   },
   "outputs": [],
   "source": [
    "tf_train_dataset = tokenized_datasets[\"train\"].to_tf_dataset(\n",
    "    columns=[\"attention_mask\", \"input_ids\", \"labels\", \"token_type_ids\"],\n",
    "    collate_fn=data_collator,\n",
    "    shuffle=True,\n",
    "    batch_size=16,\n",
    ")\n",
    "\n",
    "tf_eval_dataset = tokenized_datasets[\"validation\"].to_tf_dataset(\n",
    "    columns=[\"attention_mask\", \"input_ids\", \"labels\", \"token_type_ids\"],\n",
    "    collate_fn=data_collator,\n",
    "    shuffle=False,\n",
    "    batch_size=16,\n",
    ")"
   ]
  },
  {
   "cell_type": "markdown",
   "metadata": {
    "id": "KccUEf12fBZg"
   },
   "source": [
    "## Defining the model"
   ]
  },
  {
   "cell_type": "code",
   "execution_count": null,
   "metadata": {
    "colab": {
     "base_uri": "https://localhost:8080/"
    },
    "id": "AJ22wNivfdjp",
    "outputId": "34da77af-b6ce-4983-afa5-f81639df1ee3"
   },
   "outputs": [],
   "source": [
    "label_names_ner"
   ]
  },
  {
   "cell_type": "code",
   "execution_count": null,
   "metadata": {
    "colab": {
     "base_uri": "https://localhost:8080/"
    },
    "id": "q_4w9OUF-iSW",
    "outputId": "b402ace8-3e33-4531-e9e8-c6e106b658d7"
   },
   "outputs": [],
   "source": [
    "id2label = {i: label for i, label in enumerate(label_names_ner)}\n",
    "print(id2label)\n",
    "label2id = {v: k for k, v in id2label.items()}\n",
    "print(label2id)"
   ]
  },
  {
   "cell_type": "code",
   "execution_count": null,
   "metadata": {
    "colab": {
     "base_uri": "https://localhost:8080/",
     "height": 138,
     "referenced_widgets": [
      "2327079ad1d343c4a844673750b6cbfd",
      "75071c5a03e54c9f982c10b58e2a6c45",
      "15e44b1f7414448d8f5f0dc1e47ee3dd",
      "49237c99a8a24a889502c1ca17fe574c",
      "af4f627edd28472db9738e50bc6afe0a",
      "9153efed7cc1469ea46aaadc1ca3c958",
      "d6ed1ce4a9bc4c31a4d96afb4512902a",
      "bcb3186e488a42fd8bdec16a61bb36a0",
      "3f2e9d1eb22541d78ddeb32d0cff7163",
      "75c96a54f713412f921e5da5cba520a9",
      "b306b74cf61c4cae9fa5935ba0a35e29"
     ]
    },
    "id": "KP542Gc0-iSW",
    "outputId": "387252ee-22fa-4dee-8a77-e366ef828ff9"
   },
   "outputs": [],
   "source": [
    "from transformers import TFAutoModelForTokenClassification\n",
    "\n",
    "model = TFAutoModelForTokenClassification.from_pretrained(\n",
    "    model_checkpoint,\n",
    "    id2label=id2label,\n",
    "    label2id=label2id,\n",
    ")"
   ]
  },
  {
   "cell_type": "code",
   "execution_count": null,
   "metadata": {
    "colab": {
     "base_uri": "https://localhost:8080/"
    },
    "id": "g4y1ZL0v-iSW",
    "outputId": "a7d4882f-a2be-4b1e-a391-18d74486dcc4"
   },
   "outputs": [],
   "source": [
    "model.config.num_labels"
   ]
  },
  {
   "cell_type": "markdown",
   "metadata": {
    "id": "FAxb9otKgmNw"
   },
   "source": [
    "## Fine-tuning the model"
   ]
  },
  {
   "cell_type": "code",
   "execution_count": null,
   "metadata": {
    "colab": {
     "base_uri": "https://localhost:8080/",
     "height": 17,
     "referenced_widgets": [
      "b898671371674816b4bf431ce00559ce",
      "bdd1278c5afe4a54a4dd02eacc2800f3",
      "90f06c8183524f9f83eb2f9fa0f9ee4e",
      "508844df6b2f4f85a4d44aeab53a9063",
      "a079ed1d2ab74c7992cc4a3d1d1bc859",
      "0c2cdce3262a45abac3cd756a4d04131",
      "9598551034a44a0d8552a6d262c28db6",
      "8fb8af67da9e40c5a22caae7becc8b45",
      "e5d61d7ba16245bb96fe738fb2840297",
      "12f25028a61349019a7361e6c4ca8e24",
      "502a677cd91d4df5b593487fec0148cf",
      "fb16aa58e5f24212997ddd976d80b73c",
      "5c37b76302f4419ba62c41487fe875b3",
      "a68eda01b57c4d5485aabf880d2cf376",
      "db63f59ec60848b5ae99bdace6c3b974",
      "202c01c25945436496bcf89b62359766",
      "ff48cd5923164a699173f9e1c10854a8",
      "294b9c3cb47f4d80abc5b0a551c33bda",
      "27faa2b65b804d289ae03cbc26327caa",
      "6486b565c7c34cdea39aa894a32986ba"
     ]
    },
    "id": "8h3VU7-e-iSW",
    "outputId": "3ea81884-d53d-4969-ca29-c75bf65f21d5"
   },
   "outputs": [],
   "source": [
    "from huggingface_hub import notebook_login\n",
    "\n",
    "notebook_login()"
   ]
  },
  {
   "cell_type": "code",
   "execution_count": null,
   "metadata": {
    "id": "oAzdpFqg-iSW"
   },
   "outputs": [],
   "source": [
    "from transformers import create_optimizer\n",
    "import tensorflow as tf\n",
    "\n",
    "# Train in mixed-precision float16\n",
    "# Comment this line out if you're using a GPU that will not benefit from this\n",
    "# tf.keras.mixed_precision.set_global_policy(\"mixed_float16\")\n",
    "\n",
    "# The number of training steps is the number of samples in the dataset, divided by the batch size then multiplied\n",
    "# by the total number of epochs. Note that the tf_train_dataset here is a batched tf.data.Dataset,\n",
    "# not the original Hugging Face Dataset, so its len() is already num_samples // batch_size.\n",
    "num_epochs = 3\n",
    "num_train_steps = len(tf_train_dataset) * num_epochs\n",
    "\n",
    "optimizer, schedule = create_optimizer(\n",
    "    init_lr=2e-5,\n",
    "    num_warmup_steps=0,\n",
    "    num_train_steps=num_train_steps,\n",
    "    weight_decay_rate=0.01,\n",
    ")\n",
    "model.compile(optimizer=optimizer)"
   ]
  },
  {
   "cell_type": "code",
   "execution_count": null,
   "metadata": {
    "colab": {
     "base_uri": "https://localhost:8080/"
    },
    "id": "EC-oobEW-iSW",
    "outputId": "d6f09084-e903-43f9-9acb-e5cb21afdc5f"
   },
   "outputs": [],
   "source": [
    "from transformers.keras_callbacks import PushToHubCallback\n",
    "\n",
    "callback = PushToHubCallback(output_dir=\"bert-finetuned-ner\", tokenizer=tokenizer)\n",
    "\n",
    "model.fit(\n",
    "    tf_train_dataset,\n",
    "    validation_data=tf_eval_dataset,\n",
    "    callbacks=[callback],\n",
    "    epochs=num_epochs,\n",
    ")"
   ]
  },
  {
   "cell_type": "code",
   "execution_count": null,
   "metadata": {
    "colab": {
     "base_uri": "https://localhost:8080/"
    },
    "id": "H-FqqjtJ-iSW",
    "outputId": "deb152d6-82f9-47a1-af8a-79930d847d6f"
   },
   "outputs": [],
   "source": [
    "!pip -q install seqeval"
   ]
  },
  {
   "cell_type": "code",
   "execution_count": null,
   "metadata": {
    "colab": {
     "base_uri": "https://localhost:8080/",
     "height": 49,
     "referenced_widgets": [
      "8d16951661804bb2b15211e1c4c9ea19",
      "13d94294ad1741b886b845b0c58f2669",
      "550f880cd90542c2b2e435bd02e39720",
      "65e2e47a6c4d4bf4a3ca22fccdc5c9ec",
      "9bbe0728eb7d463eb81eb210a04d88cf",
      "c3459b6083f64eb7aeb7ccec6e83f8bd",
      "f7440ef458034ed5aed57c014f0a16a8",
      "b8e84710f69243548d1ab7906a0f6f7e",
      "5b24559d17dd40cbbcd28d93614d7e69",
      "600fbc2c5b41424187610a01a7652f3c",
      "6f34cae09e3f4eed8dddac695d97c9ff"
     ]
    },
    "id": "2PRo-I2U-iSW",
    "outputId": "aa078d66-14c2-482a-8a90-710bf0676ade"
   },
   "outputs": [],
   "source": [
    "import evaluate\n",
    "\n",
    "metric = evaluate.load(\"seqeval\")"
   ]
  },
  {
   "cell_type": "code",
   "execution_count": null,
   "metadata": {
    "colab": {
     "base_uri": "https://localhost:8080/"
    },
    "id": "dF7vI1Yh-iSW",
    "outputId": "0467b818-e528-4ae6-c8c8-2872d018fba1"
   },
   "outputs": [],
   "source": [
    "labels = raw_datasets[\"train\"][0][\"ner_tags\"]\n",
    "labels = [label_names_ner[i] for i in labels]\n",
    "labels"
   ]
  },
  {
   "cell_type": "code",
   "execution_count": null,
   "metadata": {
    "colab": {
     "base_uri": "https://localhost:8080/"
    },
    "id": "wCb1x4MA-iSX",
    "outputId": "0a6a1848-761c-46e1-a431-f0419b83b6c9"
   },
   "outputs": [],
   "source": [
    "predictions = labels.copy()\n",
    "predictions[2] = \"O\"\n",
    "metric.compute(predictions=[predictions], references=[labels])"
   ]
  },
  {
   "cell_type": "code",
   "execution_count": null,
   "metadata": {
    "colab": {
     "base_uri": "https://localhost:8080/"
    },
    "id": "It7e8gyi-iSX",
    "outputId": "2185719a-df8c-4276-90b8-77a6e2267ae4"
   },
   "outputs": [],
   "source": [
    "import numpy as np\n",
    "\n",
    "all_predictions = []\n",
    "all_labels = []\n",
    "for batch in tf_eval_dataset:\n",
    "    logits = model.predict_on_batch(batch)[\"logits\"]\n",
    "    labels = batch[\"labels\"]\n",
    "    predictions = np.argmax(logits, axis=-1)\n",
    "    for prediction, label in zip(predictions, labels):\n",
    "        for predicted_idx, label_idx in zip(prediction, label):\n",
    "            if label_idx == -100:\n",
    "                continue\n",
    "            all_predictions.append(label_names[predicted_idx])\n",
    "            all_labels.append(label_names[label_idx])\n",
    "metric.compute(predictions=[all_predictions], references=[all_labels])"
   ]
  },
  {
   "cell_type": "markdown",
   "metadata": {
    "id": "PIdIWOmSjaiX"
   },
   "source": [
    "# Using the fine-tuned model"
   ]
  },
  {
   "cell_type": "code",
   "execution_count": null,
   "metadata": {
    "colab": {
     "base_uri": "https://localhost:8080/",
     "height": 593,
     "referenced_widgets": [
      "f931a54f5db84e739e39344585d12ae9",
      "6747fcb2e4784346b4a78d28e3d6c765",
      "ffd9a2d96f0f4af694e77fdcf7a6dd58",
      "40ece0be2710492c8e0c037f8b2f7888",
      "dd2dedcea1e84ff78cc0b2c78ee87dfc",
      "5e68a779b3f14deea8c3ecee33afaa40",
      "d7b7b9744e834e3d8974088f3a92be12",
      "77337922cebf455f9cadcebfee79a549",
      "6c81ae3d628b4069b0fce79fec7c0495",
      "d4e7dea668e0451b950148dc64c880ae",
      "b5923adb40df4826a9f39d60cbad1479",
      "83b717da6dc24e488816a518d9e5d718",
      "60705769e0e942eaa2794f14f299d735",
      "9f74ad5ed6194e9c830f08f14eedc2b1",
      "c537dc477d714fa5ab5b9d351e5094d0",
      "9883b241daf849138381f92ab7bc0c44",
      "8f9a35bae17740a492370d59944d8f56",
      "3c3ba6becfd449f38524758240bd36cd",
      "e768faebec044db9a96f390afb911406",
      "3ed13c2ae65e45d5b11f13425bb92992",
      "0ad96316aa6e468da91183523761bf81",
      "5615364d198646f2ac98e88f475481f6",
      "9e2fb633f16741c79a97ac8a6a907def",
      "2e2fc62f8a1944a89332e030def7decf",
      "617bc53a250a47fe8231eb37527300bd",
      "e87eacd3c18c4ab7a392c9f70ebb83e3",
      "a2655dbbaf1a4292a48bead2d4af0213",
      "39eef741771449fea89f37a82ff621db",
      "39167c2dfb3e4712b730a24ab2657fd7",
      "1d59b53f1c5140e5905c921f46856ae2",
      "f8dc56a57ff342c0af68a9a2acd3fe9c",
      "b4c904c6009b4f148ac8f09f67850ad9",
      "7248515820df4f12b7a9b8c49c2ec7bd",
      "0ff0e401f9154040845226f5e8066eb2",
      "506a6936850e4e6188e30256f91635ea",
      "a7d733dc0d5f4b51860b72d6f891b5bc",
      "96b535d1a6fc45759860af563f9944e5",
      "a796df71fcf9420283af3eda61abc654",
      "8733a8e867cc4b92a607a63a9cdf116d",
      "a0baebb536b94f2ab00f378b9d6e1247",
      "acb08f54df49495da91ad31024b812a4",
      "173e4306137247fba2ef6ab41437d234",
      "cc6be4282a584df2b54cc2f8da63aaa7",
      "82e0233fade94edc8e0fe99bfa58dba4",
      "c8d7e36d41034058ac6ca2d982267cc0",
      "4ba767000e804b17ad6592371e09427a",
      "b2c7d271886e41c0bcd01c6b93c8d8e2",
      "23ea17b814274a5ba6f97cafe9ebae77",
      "3c8c860c8b7b4d52a77e82ebe98f949d",
      "8b71d41cefcd429c93de0f2341f2e494",
      "eeccea25bc3c4141a98c666421824a91",
      "243109c52afa4ff1b394cd0143fd2a74",
      "28af584a7c0040c58eff924e5b2a0a0f",
      "0f7ef6e50b0f4cc08c33f38ae424ab6d",
      "76503fce3d0e4abfadddf7c082251ccc",
      "99c4e171d36b4920b26a2dab2bf0f59a",
      "d32ce606858549db9d2eb7c310490076",
      "4442beffe61e4ebb980124dd19bb2618",
      "6337fd1655e44e179dfadbe40db2f4bc",
      "eb5443eafbb641b7b57aa5338d441c7a",
      "d21e70a188ae46f3b9507f594c0e9d2a",
      "d9bee9abbb944843bf969eefdc6955d0",
      "c79d43d289e64ea0af74487cc15b9b14",
      "4094a38ceced4825a93b30cd4860c0f4",
      "841403ec37ff4df2a4bc835fe4c3f590",
      "bef658b3df474ab188b5acc44430e23d"
     ]
    },
    "id": "yfBDF13u-iSX",
    "outputId": "918cf5ae-f83a-4cfa-a4b1-b243495a66eb"
   },
   "outputs": [],
   "source": [
    "from transformers import pipeline\n",
    "\n",
    "# Replace this with your own checkpoint\n",
    "model_checkpoint = \"Mhammad2023/bert-finetuned-ner\"\n",
    "token_classifier = pipeline(\n",
    "    \"token-classification\", model=model_checkpoint, aggregation_strategy=\"simple\"\n",
    ")\n",
    "token_classifier(\"My name is Mhammad Ibrahim and I work at Eurisko in Beirut.\")"
   ]
  },
  {
   "cell_type": "code",
   "execution_count": null,
   "metadata": {
    "id": "gs-OR1mzjq8S"
   },
   "outputs": [],
   "source": []
  }
 ],
 "metadata": {
  "accelerator": "GPU",
  "colab": {
   "gpuType": "T4",
   "name": "Token classification (TensorFlow)",
   "provenance": []
  },
  "kernelspec": {
   "display_name": "Python 3",
   "name": "python3"
  },
  "language_info": {
   "name": "python"
  }
 },
 "nbformat": 4,
 "nbformat_minor": 0
}
